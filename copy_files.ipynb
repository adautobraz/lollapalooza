{
 "cells": [
  {
   "cell_type": "code",
   "execution_count": 1,
   "metadata": {},
   "outputs": [],
   "source": [
    "from shutil import copy, copytree\n",
    "\n",
    "from pathlib import Path\n",
    "import pipreqs\n",
    "import os\n",
    "\n",
    "from distutils.dir_util import copy_tree"
   ]
  },
  {
   "cell_type": "code",
   "execution_count": 2,
   "metadata": {},
   "outputs": [],
   "source": [
    "analysis_path = Path('../../analysis/lollapalooza_lineups/')\n",
    "\n",
    "current_path = Path('./')"
   ]
  },
  {
   "cell_type": "code",
   "execution_count": 3,
   "metadata": {},
   "outputs": [
    {
     "data": {
      "text/plain": [
       "['sources/data_load_functions.py',\n",
       " 'sources/__init__.py',\n",
       " 'sources/__pycache__/data_load_functions.cpython-37.pyc',\n",
       " 'sources/__pycache__/general_functions.cpython-37.pyc',\n",
       " 'sources/__pycache__/visualization_functions.cpython-37.pyc',\n",
       " 'sources/__pycache__/data_prep_functions.cpython-37.pyc',\n",
       " 'sources/__pycache__/__init__.cpython-37.pyc',\n",
       " 'sources/visualization_functions.py',\n",
       " 'sources/data_prep_functions.py',\n",
       " 'sources/general_functions.py']"
      ]
     },
     "execution_count": 3,
     "metadata": {},
     "output_type": "execute_result"
    }
   ],
   "source": [
    "file = 'streamlit_app.py'\n",
    "copy(analysis_path/file, current_path/file)\n",
    "\n",
    "folder = 'data/prep/'\n",
    "Path(current_path/folder).mkdir(exist_ok=True, parents=True)\n",
    "copy_tree(str(analysis_path/folder), str(current_path/folder))\n",
    "\n",
    "\n",
    "folder = 'sources/'\n",
    "Path(current_path/folder).mkdir(exist_ok=True, parents=True)\n",
    "copy_tree(str(analysis_path/folder), str(current_path/folder))"
   ]
  },
  {
   "cell_type": "code",
   "execution_count": 4,
   "metadata": {},
   "outputs": [
    {
     "name": "stdout",
     "output_type": "stream",
     "text": [
      "INFO: Successfully saved requirements file in ./requirements.txt\r\n"
     ]
    }
   ],
   "source": [
    "! pipreqs --force ./ > requirements.txt"
   ]
  }
 ],
 "metadata": {
  "jupytext": {
   "text_representation": {
    "extension": ".py",
    "format_name": "light",
    "format_version": "1.5",
    "jupytext_version": "1.7.1"
   }
  },
  "kernelspec": {
   "display_name": "Python [conda env:root] *",
   "language": "python",
   "name": "conda-root-py"
  },
  "language_info": {
   "codemirror_mode": {
    "name": "ipython",
    "version": 3
   },
   "file_extension": ".py",
   "mimetype": "text/x-python",
   "name": "python",
   "nbconvert_exporter": "python",
   "pygments_lexer": "ipython3",
   "version": "3.7.4"
  }
 },
 "nbformat": 4,
 "nbformat_minor": 2
}
